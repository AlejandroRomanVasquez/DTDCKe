{
 "cells": [
  {
   "cell_type": "markdown",
   "id": "86083f1f",
   "metadata": {},
   "source": [
    "# Preeliminaries"
   ]
  },
  {
   "cell_type": "markdown",
   "id": "c80129ec",
   "metadata": {},
   "source": [
    "### Rpy2 package"
   ]
  },
  {
   "cell_type": "code",
   "execution_count": 1,
   "id": "09e02c38",
   "metadata": {},
   "outputs": [],
   "source": [
    "%load_ext rpy2.ipython"
   ]
  },
  {
   "cell_type": "markdown",
   "id": "44107efd",
   "metadata": {},
   "source": [
    "### Importing R packages"
   ]
  },
  {
   "cell_type": "code",
   "execution_count": 2,
   "id": "40fa9071",
   "metadata": {},
   "outputs": [
    {
     "name": "stderr",
     "output_type": "stream",
     "text": [
      "R[write to console]: Loading required package: Matrix\n",
      "\n",
      "R[write to console]: Loaded glmnet 4.1-4\n",
      "\n",
      "R[write to console]: \n",
      "Attaching package: ‘dplyr’\n",
      "\n",
      "\n",
      "R[write to console]: The following objects are masked from ‘package:stats’:\n",
      "\n",
      "    filter, lag\n",
      "\n",
      "\n",
      "R[write to console]: The following objects are masked from ‘package:base’:\n",
      "\n",
      "    intersect, setdiff, setequal, union\n",
      "\n",
      "\n",
      "R[write to console]: Loading required package: iterators\n",
      "\n",
      "R[write to console]: Loading required package: parallel\n",
      "\n"
     ]
    },
    {
     "data": {
      "text/html": [
       "\n",
       "        <span>StrVector with 19 elements.</span>\n",
       "        <table>\n",
       "        <tbody>\n",
       "          <tr>\n",
       "          \n",
       "            <td>\n",
       "            'VineCopu...\n",
       "            </td>\n",
       "          \n",
       "            <td>\n",
       "            'TSP'\n",
       "            </td>\n",
       "          \n",
       "            <td>\n",
       "            'doParall...\n",
       "            </td>\n",
       "          \n",
       "            <td>\n",
       "            ...\n",
       "            </td>\n",
       "          \n",
       "            <td>\n",
       "            'datasets'\n",
       "            </td>\n",
       "          \n",
       "            <td>\n",
       "            'methods'\n",
       "            </td>\n",
       "          \n",
       "            <td>\n",
       "            'base'\n",
       "            </td>\n",
       "          \n",
       "          </tr>\n",
       "        </tbody>\n",
       "        </table>\n",
       "        "
      ],
      "text/plain": [
       "<rpy2.robjects.vectors.StrVector object at 0x7fc21dc09540> [RTYPES.STRSXP]\n",
       "R classes: ('character',)\n",
       "['VineCopu..., 'TSP', 'doParall..., 'parallel', ..., 'utils', 'datasets', 'methods', 'base']"
      ]
     },
     "execution_count": 2,
     "metadata": {},
     "output_type": "execute_result"
    }
   ],
   "source": [
    "%R library(glmnet)\n",
    "%R library(dplyr)\n",
    "%R library(rvinecopulib)\n",
    "%R library(knockoff)\n",
    "#%R library(performanceEstimation)\n",
    "%R library(foreach)\n",
    "%R library(doParallel)\n",
    "%R library(TSP)\n",
    "%R library(VineCopula)\n",
    "#%R library(ROSE)"
   ]
  },
  {
   "cell_type": "markdown",
   "id": "4c00d949",
   "metadata": {},
   "source": [
    "### Importing Python libraries"
   ]
  },
  {
   "cell_type": "code",
   "execution_count": 3,
   "id": "8571c51a",
   "metadata": {},
   "outputs": [],
   "source": [
    "import pandas as pd\n",
    "import warnings\n",
    "import numpy as np\n",
    "from timeit import default_timer as timer\n",
    "import math\n",
    "\n",
    "\n",
    "#For parallel computing\n",
    "import multiprocessing\n",
    "from joblib import Parallel, delayed\n",
    "#Number of cores\n",
    "num_cores = multiprocessing.cpu_count()\n",
    "jobs=num_cores-1\n",
    "\n",
    "\n",
    "import matplotlib.pyplot as plt\n",
    "%matplotlib inline\n",
    "\n",
    "#knockpy (knockoffs)\n",
    "import knockpy\n",
    "from knockpy.knockoff_filter import KnockoffFilter\n",
    "#from knockpy.knockoff_stats import data_dependent_threshhold\n"
   ]
  },
  {
   "cell_type": "code",
   "execution_count": 4,
   "id": "3c411486",
   "metadata": {},
   "outputs": [],
   "source": [
    "#Import the package rpy2\n",
    "import rpy2\n",
    "import rpy2.robjects as robjects\n",
    "from rpy2.robjects.packages import importr\n",
    "from rpy2.robjects import r, pandas2ri\n",
    "from rpy2.robjects.conversion import localconverter\n",
    "\n",
    "# import R's packages\n",
    "base = importr('base')\n",
    "glmnet = importr('glmnet')\n",
    "dplyr = importr('dplyr')\n"
   ]
  },
  {
   "cell_type": "markdown",
   "id": "ae79bcb0",
   "metadata": {},
   "source": [
    "#### Python functions"
   ]
  },
  {
   "cell_type": "code",
   "execution_count": 5,
   "id": "081bbf7d",
   "metadata": {},
   "outputs": [],
   "source": [
    "#Function to make selections\n",
    "def make_selections(W, fdr):\n",
    "    \"\"\"\" Calculate data dependent threshhold and selections\n",
    "    returns a np.ndarray\n",
    "    \n",
    "    Parameters \n",
    "    ---------- \n",
    "    W : np.ndarray \n",
    "    fdr : float\n",
    "    \"\"\"  \n",
    "    \n",
    "    threshold = data_dependent_threshhold(W=W, fdr=fdr)\n",
    "    selected_flags = (W >= threshold).astype(\"float32\")\n",
    "    return selected_flags\n",
    "\n",
    "\n",
    "def lasso_glmnet_lambda_min(x):\n",
    "  \"\"\"\" Find the tuning lambda using the R package glmnet \n",
    "  \n",
    "  Returns a robjects.vectors.FloatVector\n",
    "  \n",
    "  Parameters \n",
    "  ---------- \n",
    "  x : pandas.DataFrame  \n",
    "  \"\"\"    \n",
    "    \n",
    "  #Convertion of the pandas dataframe to a R dataframe  \n",
    "  sim = x\n",
    "  with localconverter(robjects.default_converter + pandas2ri.converter):\n",
    "    r_sim = robjects.conversion.py2rpy(sim)\n",
    "  robjects.globalenv[\"r_sim\"] = r_sim\n",
    "  \n",
    "  #Loading R libraries  \n",
    "  base = importr('base')\n",
    "  glmnet = importr('glmnet')\n",
    "  dplyr = importr('dplyr')\n",
    "\n",
    "\n",
    "  #Fitting the Cox’s proportional hazards model employing glmnet\n",
    "  robjects.r(''' \n",
    "        X <- r_sim %>% select(-c(\"Class\"))\n",
    "        X_matrix <- as.matrix(X)\n",
    "        y <- r_sim %>% select(c(\"Class\"))\n",
    "        y <- as.matrix(y)\n",
    "        cvfit <- cv.glmnet(X_matrix, y, alpha=1, family = \"binomial\",  nfolds = 10, standardize = TRUE)\n",
    "        lambda_min_r <- as.numeric(cvfit$lambda.min)\n",
    "        ''')\n",
    "  #Tuning lambda\n",
    "  lambda_min = robjects.globalenv['lambda_min_r']  \n",
    "  \n",
    "  return lambda_min  \n"
   ]
  },
  {
   "cell_type": "markdown",
   "id": "aa0ace31",
   "metadata": {},
   "source": [
    "### R functions related to dvines"
   ]
  },
  {
   "cell_type": "code",
   "execution_count": 6,
   "id": "f9c24b25",
   "metadata": {},
   "outputs": [],
   "source": [
    "%%R\n",
    "\n",
    "#X_Xk_dvine_distributions()-->Function to fit the dvine distribution for X and X_X matrices\n",
    "#Arguments:\n",
    "#X: matrix of predictors\n",
    "#vinecop_family : String related to the family of pair copulas used in the dvine fitting. \n",
    "#                 Common options are \"parametric\", \"nonparametric\", \"onepar\". More details can be found\n",
    "#                 in the documentation of R package rvinecopulib\n",
    "#                  https://cran.r-project.org/web/packages/rvinecopulib/rvinecopulib.pdf\n",
    "# n_cores: int -> number of cores for parallel processing\n",
    "\n",
    "#Value: This function returns a list that contains objects of class vinecop_dist for X and X_X\n",
    "#Note: more information about objects of class vinecop_dist can be found in \n",
    "#https://cran.r-project.org/web/packages/rvinecopulib/rvinecopulib.pdf\n",
    "\n",
    "X_Xk_dvine_distributions <- function(X, vinecop_family=\"parametric\", n_cores=1){\n",
    "    \n",
    "    if (is.null(X)) {\n",
    "        stop(\"Argument X is null\")  \n",
    "    }\n",
    "    \n",
    "    #Number of variables p and sample size n\n",
    "    n <- dim(X)[1]\n",
    "    p <- dim(X)[2]\n",
    "\n",
    "\n",
    "    #dstructures for dvines\n",
    "    X_X_dstructure <- dvine_structure((2*p):1)\n",
    "    X_dstructure <- dvine_structure(p:1)\n",
    "\n",
    "    #Dataset column binding\n",
    "    X_X <- cbind(X,X)\n",
    "\n",
    "    #Seudo-Observations\n",
    "    u_X_X <- pseudo_obs(X_X)\n",
    "\n",
    "    #Fitting dvine distribution for X_X\n",
    "    dvine_fitting_time <- system.time(\n",
    "    fit_dvine_trunc <- vinecop(u_X_X, family_set=c(vinecop_family), structure= X_X_dstructure, presel=TRUE,\n",
    "                         selcrit='mbicv', par_method='mle', psi0=0.95, show_trace=FALSE, cores=n_cores, trunc_lvl=p-1)\n",
    "    )\n",
    "\n",
    "    #Printing dvine X_X fitting time\n",
    "    print(\"dvine fitting time in seconds:\")\n",
    "    print(dvine_fitting_time)\n",
    "\n",
    "    #Pair-copula list for X_X\n",
    "    X_X_dvine_pclist <- fit_dvine_trunc$pair_copulas\n",
    "\n",
    "    #dvine distribution for X_X \n",
    "    X_X_dvine_dist <- vinecop_dist(X_X_dvine_pclist, X_X_dstructure)\n",
    "\n",
    "    #Pair-copula list for X\n",
    "    X_dvine_pclist <- list(rep(list(\"\"),p-1))\n",
    "\n",
    "    #Iniziating with independent copula\n",
    "    for (i in 1:(p-1)){\n",
    "    bicop <- bicop_dist(\"indep\",)\n",
    "    X_dvine_pclist[i] <- list(rep(list(bicop),p-i))\n",
    "    }\n",
    "\n",
    "    #Pair copula list just for X dependencies\n",
    "    for (i in 1:(p-1)){\n",
    "    J <- p-i\n",
    "\n",
    "    for (j in 1:J){\n",
    "      X_dvine_pclist[[i]][j] <- X_X_dvine_pclist[[i]][j] \n",
    "\n",
    "    } \n",
    "    }\n",
    "\n",
    "    # dvine distribution for X\n",
    "    X_dvine_dist <- vinecop_dist(X_dvine_pclist, X_dstructure)\n",
    "\n",
    "    #List with dvine distributions\n",
    "    dvine_distributions <- list(X_dvine_dist=X_dvine_dist, X_X_dvine_dist=X_X_dvine_dist)\n",
    "\n",
    "    return(dvine_distributions)\n",
    "}\n",
    "\n",
    "# create_dvine_Knockoffs()--> Function to sample dvine knockoffs\n",
    "#Arguments:\n",
    "#X: matrix of predictors\n",
    "#X_dvine_dist: Object of class vinecop_dist for X, contaning a list specifying the pair-copulas,\n",
    "#              structure, and variable types.\n",
    "#X_X_dvine_dist: Object of class vinecop_dist for X_X, \n",
    "#               contaning a list specifying the pair-copulas, structure, and variable types.\n",
    "#n_cores: int -> number of cores for parallel processing\n",
    "#Note: more information about objects of class vinecop_dist can be found in \n",
    "#https://cran.r-project.org/web/packages/rvinecopulib/rvinecopulib.pdf\n",
    "\n",
    "#Value: This function returns a matrix Xk of knockoffs\n",
    "\n",
    "create_dvine_Knockoffs <- function(X, X_dvine_dist , X_X_dvine_dist, n_cores=1){\n",
    "\n",
    "    if (is.null(X)) {\n",
    "        stop(\"Argument X is null\")  \n",
    "    }\n",
    "    if (is.null( X_dvine_dist)) {\n",
    "        stop(\"Argument X_dvine_dist is null\")  \n",
    "    }\n",
    "    if (is.null( X_X_dvine_dist)) {\n",
    "        stop(\"Argument X_X_dvine_dist is null\")  \n",
    "    }\n",
    "           \n",
    "    #Number of variables p and sample size n\n",
    "    n <- dim(X)[1]\n",
    "    p <- dim(X)[2]\n",
    "        \n",
    "    #Pseudo observations\n",
    "    u_X <- pseudo_obs(X)\n",
    "\n",
    "    #Independent uniforms w\n",
    "    w_X <- rosenblatt(x=u_X, model=X_dvine_dist, cores = n_cores)\n",
    "    w_Xk <- matrix(runif(n=p*n,min=0,max=1),nrow=n,ncol=p)\n",
    "    w_X_Xk <- cbind(w_X,w_Xk)\n",
    "\n",
    "    #Knockoff sampling Xk\n",
    "    u_X_Xk <- inverse_rosenblatt(u=w_X_Xk, model= X_X_dvine_dist, cores = n_cores)\n",
    "    u_Xk <- u_X_Xk[,(p+1):(2*p)]\n",
    "\n",
    "    #Marginal transformation\n",
    "    Xk <- X\n",
    "    for(i in 1:p) {   \n",
    "        Xk[,i] <- as.vector(quantile(X[,i], probs=punif(u_Xk[,i],min=0, max=1), type=8))\n",
    "    }\n",
    "\n",
    "    return(Xk)\n",
    "}\n",
    "\n",
    "# stable_lasso_glmnet()--> Function to fit a regularized lasso regresion model using \n",
    "#some functions of the R package glmnet.\n",
    "#It implements the stabilizing procedure of Roberts and Nowak (2014) to diminish sensitivity\n",
    "#to the fold assignment used in cross-validation to select the hyperparameter lambda\n",
    "\n",
    "#Arguments:\n",
    "#X: matrix of predictors\n",
    "#y: vector or matrix of response\n",
    "#lasso_family: a string to select linear regression \"gaussian\" or logistic regression \"binomial\"\n",
    "#M_lasso: integer related to the number of runs for the stabilzation against CV\n",
    "#n_folds: integer indicating the number of cross validations\n",
    "#Note: more information about the R package glmnet can be found in \n",
    "#https://cran.r-project.org/web/packages/glmnet/glmnet.pdf\n",
    "#Note 2: this function runs in parallel for the stabilzation against CV\n",
    "\n",
    "#Value: This function returns a vector of the estimated coeficientes (without the intercept)\n",
    "\n",
    "stable_lasso_glmnet <- function(X, y, lasso_family, M_lasso = 10, n_folds = 5){\n",
    "    \n",
    "    if (is.null(X)) {\n",
    "        stop(\"Argument X is missing\")  \n",
    "    }\n",
    "    if (is.null(y)) {\n",
    "        stop(\"Argument y is missing\")  \n",
    "    }\n",
    "    if (is.null( lasso_family )) {\n",
    "        stop(\"Argument lasso_family is missing\")  \n",
    "    }\n",
    "\n",
    "    \n",
    "    y_vec <- as.vector(y)\n",
    "    X_matrix <- as.matrix(X)\n",
    "    \n",
    "    #Stabilizing the lasso against CV (Roberts and Nowak, 2014)\n",
    "    lambdas <- rep(0,M_lasso)\n",
    "\n",
    "    time_cv <- system.time(  \n",
    "        lambdas <- foreach(i = 1:M_lasso, .combine=c,.packages=c(\"glmnet\")) %dopar% {\n",
    "        set.seed(i) #The seed is set for reproducibility proposes\n",
    "        cvfit <- cv.glmnet(X_matrix, y_vec, alpha=1, family = lasso_family, nfolds = n_folds, standardize = TRUE)\n",
    "        cvfit$lambda.min\n",
    "        }\n",
    "    )\n",
    "\n",
    "    #Selecting the median of the lambdas distribution\n",
    "    lambda50 <- as.numeric(quantile(lambdas,probs=0.5))\n",
    "    fit_coef <- coef(glmnet(X_matrix, y_vec, alpha = 1, lambda = lambda50, family = lasso_family, standardize = TRUE))\n",
    "\n",
    "    fit_coef_vec <- as.vector(fit_coef)\n",
    "    fit_coef_vec <- fit_coef_vec[-1] \n",
    "\n",
    "    return(fit_coef_vec)\n",
    "}\n",
    "\n",
    "# ekn_dvines()--> Function to derandomized knockoffs using e-values for FDR control. This function\n",
    "# considers the dvine knockoff procedure.\n",
    "#The code to implement this function is adapted from \n",
    "#https://github.com/zhimeir/derandomized_knockoffs_fdr\n",
    "\n",
    "#Arguments:\n",
    "#X: matrix of predictors\n",
    "#y: vector or matrix of response\n",
    "#M: integer denoting the number of generated copies of the knockff matrix Xk.\n",
    "#dvine_distributions: list that contains objects of class vinecop_dist for X and X_X\n",
    "#M_lasso: integer related to the number of runs for the stabilzation against CV\n",
    "#alpha: integer indicating FDR target level\n",
    "#gamma: integer denoting target level for the knockoff threshold. According to Ren & Barber (2023),\n",
    "#       experimentally, gamma=alpha/2 works well.           \n",
    "#lasso_family: a string to select linear regression \"gaussian\" or logistic regression \"binomial\" \n",
    "#n_cores: int -> number of cores for parallel processing\n",
    "\n",
    "#Note: the knockoff.threshold() function from the R knockoff package is used for \n",
    "#setting the Knockoff rejection threshold (https://cran.r-project.org/web/packages/knockoff/knockoff.pdf)\n",
    "\n",
    "#Value: This function returns a list with the selected variables of the procedure\n",
    "\n",
    "ekn_dvines <- function(X, y, dvine_distributions, M=50, M_lasso=10, alpha=0.2, gamma=0.1, lasso_family, n_cores=1){\n",
    "\n",
    "    if (is.null(X)) {\n",
    "        stop(\"Argument X is missing\")  \n",
    "    }\n",
    "    if (is.null(y)) {\n",
    "        stop(\"Argument y is missing\")  \n",
    "    }\n",
    "    if (is.null( dvine_distributions )) {\n",
    "        stop(\"Argument dvine_distributions is missing\")  \n",
    "    }\n",
    "    if (is.null( lasso_family )) {\n",
    "        stop(\"Argument lasso_family is missing\")  \n",
    "    }\n",
    "    \n",
    "    \n",
    "            \n",
    "    #Number of variables p and sample size n  \n",
    "    n <- dim(X)[1]\n",
    "    p <- dim(X)[2]\n",
    "\n",
    "    #Initial matrix of E-values \n",
    "    E <- matrix(0, M, p)\n",
    "    \n",
    "    for(m in 1:M){\n",
    "        \n",
    "        set.seed(m) #The seed is set for reproducibility proposes\n",
    "        \n",
    "        #dvine Knockoffs sampling\n",
    "        Xk <- create_dvine_Knockoffs(X, X_dvine_dist = dvine_distributions$X_dvine_dist ,\n",
    "                                     X_X_dvine_dist =dvine_distributions$X_X_dvine_dist, n_cores)\n",
    "\n",
    "\n",
    "        #X and Xk column binding\n",
    "        X_Xk <- cbind(X, Xk)\n",
    "        \n",
    "        #Estimated lasso coefficients for X_Xk\n",
    "        Z <- stable_lasso_glmnet(X_Xk, y, lasso_family, M_lasso)\n",
    "              \n",
    "        #Importance statistics\n",
    "        W <- abs(Z[1:p]) - abs(Z[(p+1):length(Z)])\n",
    "        \n",
    "        #Knockoff rejection threshold - conservative procedure (\"knockoffs+\" offset = 1)\n",
    "        tau <- stop_early(W, gamma, offset=1) \n",
    "        \n",
    "        #E-vales for all the variables (columns) for m run\n",
    "        E[m,] <- (W >= tau) / (1 + sum(W <= -tau))\n",
    "        \n",
    "   }\n",
    "    \n",
    "    #Averaging the e-values to select set of discoveries\n",
    "    E <- p*colMeans(E)\n",
    "    rej <- ebh(E, alpha)$rej\n",
    "    \n",
    "    return(list(rej = rej, E = E)) \n",
    "\n",
    "}"
   ]
  },
  {
   "cell_type": "markdown",
   "id": "d24b98e2",
   "metadata": {},
   "source": [
    "### R functions  to derandomized knockoffs using e-values for FDR control (Gaussian and second order knockoffs)"
   ]
  },
  {
   "cell_type": "code",
   "execution_count": 7,
   "id": "c8aa8961",
   "metadata": {},
   "outputs": [],
   "source": [
    "%%R\n",
    "\n",
    "ekn_gaussian <- function(X, y, ls_Xk_norm ,M, M_lasso, alpha, gamma, lasso_family, n_cores){\n",
    "\n",
    "    if (is.null(X)) {\n",
    "        stop(\"Argument X is missing\")  \n",
    "    }\n",
    "    if (is.null(y)) {\n",
    "        stop(\"Argument y is missing\")  \n",
    "    }\n",
    "    if (is.null( lasso_family )) {\n",
    "        stop(\"Argument lasso_family is missing\")  \n",
    "    }\n",
    "   \n",
    "    #Number of variables p and sample size n  \n",
    "    n <- dim(X)[1]\n",
    "    p <- dim(X)[2]\n",
    "\n",
    "    #Matrix of E-values \n",
    "    E <- matrix(0, M, p)\n",
    "    \n",
    "    for(m in 1:M){\n",
    "        \n",
    "        set.seed(m) #The seed is set for reproducibility proposes\n",
    "        \n",
    "        #Gaussian Knockoffs copy selection from the list object\n",
    "        Xk <- ls_Xk_norm[[m]]\n",
    "        \n",
    "        #X and Xk column binding\n",
    "        X_Xk <- cbind(X, Xk)\n",
    "        \n",
    "        #Estimated lasso coefficients for X_Xk\n",
    "        Z <- stable_lasso_glmnet(X_Xk, y, lasso_family, M_lasso)\n",
    "        \n",
    "        #Importance statistics\n",
    "        W <- abs(Z[1:p]) - abs(Z[(p+1):length(Z)])\n",
    "                \n",
    "        #Knockoff rejection threshold - conservative procedure (\"knockoffs+\" offset = 1)\n",
    "        tau <- stop_early(W, gamma, offset=1) \n",
    "        \n",
    "        #E-vales for all the variables (columns) for m run\n",
    "        E[m,] <- (W >= tau) / (1 + sum(W <= -tau))\n",
    "        \n",
    "   }\n",
    "    \n",
    "    #Averaging the e-values to select set of discoveries\n",
    "    E <- p*colMeans(E)\n",
    "    rej <- ebh(E, alpha)$rej\n",
    "    \n",
    "    return(list(rej = rej, E = E)) \n",
    "\n",
    "}\n",
    "\n",
    "\n",
    "ekn_second_order <- function(X, y, M, M_lasso, alpha, gamma, lasso_family, n_cores){\n",
    "\n",
    "    if (is.null(X)) {\n",
    "        stop(\"Argument X is missing\")  \n",
    "    }\n",
    "    if (is.null(y)) {\n",
    "        stop(\"Argument y is missing\")  \n",
    "    }\n",
    "    if (is.null( lasso_family )) {\n",
    "        stop(\"Argument lasso_family is missing\")  \n",
    "    }\n",
    "\n",
    "    \n",
    "    #Number of variables p and sample size n  \n",
    "    n <- dim(X)[1]\n",
    "    p <- dim(X)[2]\n",
    "\n",
    "    #Matrix of E-values \n",
    "    E <- matrix(0, M, p)\n",
    "\n",
    "    for(m in 1:M){\n",
    "        \n",
    "        set.seed(m) #The seed is set for reproducibility proposes\n",
    "        \n",
    "        Xk <- create.second_order(X)\n",
    "        \n",
    "        #X and Xk column binding\n",
    "        X_Xk <- cbind(X, Xk)\n",
    "        \n",
    "        #Estimated lasso coefficients for X_Xk\n",
    "        Z <- stable_lasso_glmnet(X_Xk, y, lasso_family, M_lasso)\n",
    "        \n",
    "        #Importance statistics\n",
    "        W <- abs(Z[1:p]) - abs(Z[(p+1):length(Z)])\n",
    " \n",
    "        #Knockoff rejection threshold - conservative procedure (\"knockoffs+\" offset = 1)\n",
    "        tau <- stop_early(W, gamma, offset=1) \n",
    "        \n",
    "        #E-vales for all the variables (columns) for m run\n",
    "        E[m,] <- (W >= tau) / (1 + sum(W <= -tau))\n",
    "        \n",
    "   }\n",
    "    \n",
    "    #Averaging the e-values to select set of discoveries\n",
    "    E <- p*colMeans(E)\n",
    "    rej <- ebh(E, alpha)$rej\n",
    "    \n",
    "    return(list(rej = rej, E = E)) \n",
    "\n",
    "}\n"
   ]
  },
  {
   "cell_type": "markdown",
   "id": "fc082bb3",
   "metadata": {},
   "source": [
    "### Utility functions for the e-values procedure"
   ]
  },
  {
   "cell_type": "code",
   "execution_count": 8,
   "id": "704e8596",
   "metadata": {},
   "outputs": [],
   "source": [
    "%%R\n",
    "\n",
    "#These functions are taken from\n",
    "#https://github.com/zhimeir/derandomized_knockoffs_fdr\n",
    "\n",
    "\n",
    "#####################################\n",
    "## The eBH procedure\n",
    "#####################################\n",
    "### Input: \n",
    "###   E: e-values\n",
    "###   alpha: target FDR level\n",
    "### Output:\n",
    "###   Variables selected by the e-BH procedure\n",
    "\n",
    "ebh <- function(E, alpha){\n",
    "  \n",
    "  p <- length(E)\n",
    "  E_ord <- order(E, decreasing = TRUE)\n",
    "  E <- sort(E, decreasing = TRUE)\n",
    "  comp <- E >= (p / alpha / (1:p))\n",
    "  id <- suppressWarnings(max(which(comp>0)))\n",
    "  if(id > 0){\n",
    "    rej <- E_ord[1:id]\n",
    "  }else{\n",
    "    rej <- NULL\n",
    "  }\n",
    "  return(list(rej = rej))\n",
    "}\n",
    "\n",
    "#######################################\n",
    "## Computing the early stopping time ##\n",
    "#######################################\n",
    "### Input:\n",
    "###   W: vector of knockoff feature importance statistics \n",
    "###   gamma: alpha_kn \n",
    "###   offset: value between 0 and 1\n",
    "### Output: \n",
    "###   The modified knockoff stopping time defined in (14)\n",
    "\n",
    "stop_early <- function(W, gamma, offset){\n",
    "  \n",
    "  tau <- alphakn_threshold(W, fdr =  gamma, offset = offset) \n",
    "  ord_W <- order(abs(W), decreasing = TRUE)\n",
    "  sorted_W <- W[ord_W]\n",
    "  \n",
    "  if(sum(W>0) >= 1 / gamma){\n",
    "    pos_ind <- which(sorted_W > 0)\n",
    "    tau1 <- sorted_W[pos_ind[ceiling(1/gamma)-1]]\n",
    "  }else{\n",
    "    tau1 <- 0\n",
    "  }\n",
    "  tau <- min(tau,tau1) \n",
    "\n",
    "  return(tau)\n",
    "}\n",
    "\n",
    "\n",
    "#######################################################\n",
    "## Compute stopping time w/ diff alpha_kn and offset ##\n",
    "#######################################################\n",
    "### Input:\n",
    "###   W: a length p vector of knockoff feature importance statistics\n",
    "###   fdr: the target FDR level\n",
    "###   offset: 0 or 1 \n",
    "### Output: \n",
    "###   the knockoff selection threshold\n",
    "\n",
    "alphakn_threshold <- function(W, fdr, offset) {\n",
    "  ts = sort(c(0, abs(W)))\n",
    "  ratio = sapply(ts, function(t)\n",
    "    (offset + sum(W <= -t)) / max(1, sum(W >= t)))\n",
    "  ok = which(ratio <= fdr)\n",
    "  ifelse(length(ok) > 0, ts[ok[1]], Inf)\n",
    "}\n",
    "                 \n",
    "                 "
   ]
  },
  {
   "cell_type": "markdown",
   "id": "9fbf193c",
   "metadata": {},
   "source": [
    "###  Stable SMOTE class ( Synthetic Minority Oversampling TEchnique)  "
   ]
  },
  {
   "cell_type": "code",
   "execution_count": 9,
   "id": "4835243b",
   "metadata": {},
   "outputs": [],
   "source": [
    "#Source:\n",
    "#https://github.com/ShuoFENG0527/stability-of-smote\n",
    "\n",
    "from sklearn import neighbors\n",
    "from collections import Counter\n",
    "\n",
    "\n",
    "target_defect_ratio = 0.5 #For balancing the clases 50%-50%\n",
    "\n",
    "class stable_SMOTE:\n",
    "    \n",
    "    def __init__(self, z_nearest=5):\n",
    "        self.z_nearest = z_nearest\n",
    "    \n",
    "    def fit_sample(self, x_dataset):\n",
    "        x_dataset = pd.DataFrame(x_dataset)      \n",
    "        \n",
    "        total_pair = []\n",
    "        \n",
    "        #print(k_nearest)\n",
    "        defective_instance = x_dataset[x_dataset[\"Class\"] == 2] #Minority class (Class==2)\n",
    "        clean_instance = x_dataset[x_dataset[\"Class\"] == 1] #Mayorito class (Class==1)\n",
    "        \n",
    "        defective_number = len(defective_instance)\n",
    "        clean_number = len(clean_instance)\n",
    "        need_number = int((target_defect_ratio * len(x_dataset) - defective_number) / (1 - target_defect_ratio))  # clean_number - defective_number\n",
    "        \n",
    "        print(\"Number of minority instances needed\")\n",
    "        print(need_number)\n",
    "      \n",
    "        #exit()\n",
    "        \n",
    "        if need_number <= 0:\n",
    "            return False\n",
    "        \n",
    "        generated_dataset = []\n",
    "        synthetic_dataset = pd.DataFrame()\n",
    "        number_on_each_instance = need_number / defective_number  \n",
    "        total_pair = []\n",
    "\n",
    "        rround = number_on_each_instance / self.z_nearest\n",
    "        \n",
    "        while rround >= 1:\n",
    "            for index, row in defective_instance.iterrows():\n",
    "                temp_defective_instance = defective_instance.copy(deep=True)\n",
    "                subtraction = row - temp_defective_instance\n",
    "                square = subtraction ** 2\n",
    "                row_sum = square.apply(lambda s: s.sum(), axis=1)\n",
    "                distance = row_sum ** 0.5\n",
    "                temp_defective_instance[\"distance\"] = distance\n",
    "                temp_defective_instance = temp_defective_instance.sort_values(by=\"distance\", ascending=True)\n",
    "                neighbors = temp_defective_instance[1:self.z_nearest + 1]\n",
    "                for a, r in neighbors.iterrows():\n",
    "                    selected_pair = [index, a]\n",
    "                    selected_pair.sort()\n",
    "                    total_pair.append(selected_pair)\n",
    "            rround = rround - 1\n",
    "        need_number1 = need_number - len(total_pair)\n",
    "        number_on_each_instance = need_number1 / defective_number\n",
    "\n",
    "        for index, row in defective_instance.iterrows():\n",
    "            temp_defective_instance = defective_instance.copy(deep=True)\n",
    "            subtraction = row - temp_defective_instance\n",
    "            square = subtraction ** 2\n",
    "            row_sum = square.apply(lambda s: s.sum(), axis=1)\n",
    "            distance = row_sum ** 0.5\n",
    "            temp_defective_instance[\"distance\"] = distance\n",
    "            temp_defective_instance = temp_defective_instance.sort_values(by=\"distance\", ascending=True)\n",
    "            neighbors = temp_defective_instance[1:self.z_nearest + 1]\n",
    "            neighbors = neighbors.sort_values(by=\"distance\", ascending=False)  \n",
    "            target_sample_instance = neighbors[0: int(number_on_each_instance)]\n",
    "            target_sample_instance = target_sample_instance.drop(columns=\"distance\")\n",
    "            \n",
    "            for a, r in target_sample_instance.iterrows():\n",
    "                selected_pair = [index, a]\n",
    "                selected_pair.sort()\n",
    "                total_pair.append(selected_pair)\n",
    "        \n",
    "        temp_defective_instance = defective_instance.copy(deep=True)\n",
    "        residue_number = need_number - len(total_pair)\n",
    "        residue_defective_instance = temp_defective_instance.sample(n=residue_number)\n",
    "        \n",
    "        for index, row in residue_defective_instance.iterrows():\n",
    "            temp_defective_instance = defective_instance.copy(deep=True)\n",
    "            subtraction = row - temp_defective_instance\n",
    "            square = subtraction ** 2\n",
    "            row_sum = square.apply(lambda s: s.sum(), axis=1)\n",
    "            distance = row_sum ** 0.5\n",
    "            temp_defective_instance[\"distance\"] = distance\n",
    "            temp_defective_instance = temp_defective_instance.sort_values(by=\"distance\", ascending=True)\n",
    "            neighbors = temp_defective_instance[1:self.z_nearest + 1]\n",
    "            target_sample_instance = neighbors[-1:]\n",
    "            \n",
    "            for a in target_sample_instance.index:\n",
    "                selected_pair = [index, a]\n",
    "                selected_pair.sort()\n",
    "                total_pair.append(selected_pair)\n",
    "       \n",
    "        total_pair_tuple = [tuple(l) for l in total_pair]\n",
    "        result = Counter(total_pair_tuple)\n",
    "        result_number = len(result)\n",
    "        result_keys = result.keys()\n",
    "        result_values = result.values()\n",
    "        \n",
    "        for f in range(result_number):\n",
    "            current_pair = list(result_keys)[f]\n",
    "            row1_index = current_pair[0]\n",
    "            row2_index = current_pair[1]\n",
    "            row1 = defective_instance.loc[row1_index]\n",
    "            row2 = defective_instance.loc[row2_index]\n",
    "            generated_num = list(result_values)[f]\n",
    "            generated_instances = np.linspace(row1, row2, generated_num + 2)\n",
    "            generated_instances = generated_instances[1:-1]\n",
    "            generated_instances = generated_instances.tolist()\n",
    "            for w in generated_instances:\n",
    "                generated_dataset.append(w)\n",
    "        final_generated_dataset = pd.DataFrame(data=generated_dataset, columns=clean_instance.columns)\n",
    "        final_generated_dataset = final_generated_dataset.astype(clean_instance.dtypes.to_dict())\n",
    "        \n",
    "        result = pd.concat([clean_instance, defective_instance, final_generated_dataset], axis=0)\n",
    "        result.reset_index(drop=True, inplace=True)\n",
    "        return result\n"
   ]
  },
  {
   "cell_type": "markdown",
   "id": "72d0e779",
   "metadata": {},
   "source": [
    "### Parameter configuration"
   ]
  },
  {
   "cell_type": "code",
   "execution_count": 10,
   "id": "23828a08",
   "metadata": {},
   "outputs": [
    {
     "data": {
      "text/plain": [
       "<rpy2.robjects.functions.SignatureTranslatedFunction object at 0x7fc1d560e680> [RTYPES.CLOSXP]\n",
       "R classes: ('function',)"
      ]
     },
     "execution_count": 10,
     "metadata": {},
     "output_type": "execute_result"
    }
   ],
   "source": [
    "#Initial time\n",
    "ti = timer()\n",
    "\n",
    "M = 50 #Number of runs for e-values procedure\n",
    "M_lasso = 100 #Number of runs for Lasso Stability against CV\n",
    "lasso_family = 'binomial'\n",
    "vinecop_family = 'parametric'\n",
    "nonparametric_family = 'nonparametric'\n",
    "n_cores = 23\n",
    "\n",
    "#From Python to R\n",
    "\n",
    "%R -i M\n",
    "%R -i M_lasso\n",
    "%R -i lasso_family\n",
    "%R -i vinecop_family\n",
    "%R -i nonparametric_family\n",
    "%R -i n_cores\n",
    "\n",
    "\n",
    "#Parallel processing\n",
    "%R registerDoParallel(makeCluster(n_cores))"
   ]
  },
  {
   "cell_type": "markdown",
   "id": "73d1f419",
   "metadata": {},
   "source": [
    "# Loading the gene expression dataset"
   ]
  },
  {
   "cell_type": "code",
   "execution_count": 11,
   "id": "9cc8065e",
   "metadata": {},
   "outputs": [
    {
     "name": "stdout",
     "output_type": "stream",
     "text": [
      "(576, 1001)\n",
      "(576, 1001)\n"
     ]
    }
   ],
   "source": [
    "#Importing the csv file (576 rows and 1001 columns)\n",
    "Lung_data_complete = pd.read_csv(\"TGCA_lung_data_1000.csv\")\n",
    "print(Lung_data_complete.shape)\n",
    "\n",
    "#Removing NA's and nan's from the dataframe \n",
    "Lung_data_red = Lung_data_complete.dropna(axis=0, how='any')\n",
    "#0 observations are removed \n",
    "print(Lung_data_red.shape)\n",
    "\n",
    "#Renaming the response variable (1 - normal, 2 - lung cancer)\n",
    "Lung_data_red.rename(columns={\"Sam_Tissue\": \"Class\"}, inplace=True)\n"
   ]
  },
  {
   "cell_type": "markdown",
   "id": "cc8dc1b9",
   "metadata": {},
   "source": [
    "### Previous step that filters the most variable genes in terms of their variance"
   ]
  },
  {
   "cell_type": "code",
   "execution_count": 12,
   "id": "273886fc",
   "metadata": {},
   "outputs": [],
   "source": [
    "#Notes: \n",
    "#1) In the Lung_data data frame, the gene-expression column order is from the most variable to the less variable, \n",
    "#in terms of their variance. \n",
    "#2) The Lung_data contains the most 1000 expressed genes of a total of ____genes of the\n",
    "# genomic dataset from ________ located in the Lung Cancer Explorer (LCE) database \n",
    "# http://lce.biohpc.swmed.edu/.\n",
    "\n",
    "#Number of most expressed gene selected: \n",
    "gen_p = 250\n",
    "\n",
    "#Reduce dataframe with the most expressed genes given by gen_p \n",
    "#There is one variable before the genes: Class\n",
    "#To include the Class variable, we need to select--> gene_data_complete.iloc[:,0: gen_p + 1]\n",
    "gene_data_original = Lung_data_red.iloc[:,0: gen_p + 1]\n",
    "\n",
    "#From Python to R\n",
    "%R -i gene_data_original\n"
   ]
  },
  {
   "cell_type": "markdown",
   "id": "ea6641b4",
   "metadata": {},
   "source": [
    "### Implementation of Stable SMOTE ( Synthetic Minority Oversampling TEchnique) "
   ]
  },
  {
   "cell_type": "code",
   "execution_count": 13,
   "id": "77db5929",
   "metadata": {
    "scrolled": true
   },
   "outputs": [
    {
     "name": "stdout",
     "output_type": "stream",
     "text": [
      "Number of minority instances needed\n",
      "458\n"
     ]
    }
   ],
   "source": [
    "np.random.seed(12345)\n",
    "\n",
    "neighbor = 5 #Number of neighboors selected\n",
    "\n",
    "stable_smote = stable_SMOTE(neighbor)\n",
    "gene_data_original_stable_smote = stable_smote.fit_sample(gene_data_original)\n",
    "\n",
    "#From Python to R\n",
    "%R -i gene_data_original_stable_smote"
   ]
  },
  {
   "cell_type": "code",
   "execution_count": 14,
   "id": "ba7aa155",
   "metadata": {},
   "outputs": [],
   "source": [
    "%%R\n",
    "\n",
    "#Design matrix X and response y\n",
    "X <- gene_data_original_stable_smote %>% select(-c(\"Class\"))\n",
    "y <- gene_data_original_stable_smote %>% select(c(\"Class\"))\n",
    "\n",
    "\n",
    "#Matrix preparation\n",
    "X_matrix <- as.matrix(X)\n",
    "y_matrix <- as.matrix(y)"
   ]
  },
  {
   "cell_type": "markdown",
   "id": "60b53a55",
   "metadata": {},
   "source": [
    "# Applying the Model-X DVine Knockoff methodology with derandomized knockoffs using e-values for FDR control"
   ]
  },
  {
   "cell_type": "markdown",
   "id": "306dcbff",
   "metadata": {},
   "source": [
    "### Heuristic procedure to determine the order for the first tree in a D-vine structure: shorter Hamiltonian path using pairwise Kendall’s tau. The optimization problem is obtained using TSP (Traveling Salesman Problem) "
   ]
  },
  {
   "cell_type": "code",
   "execution_count": 17,
   "id": "b20b3a4c",
   "metadata": {},
   "outputs": [],
   "source": [
    "%%R\n",
    "\n",
    "\n",
    "#Matrix of 1 - tau_ij\n",
    "M_tau <- 1 - abs(TauMatrix(X))\n",
    "\n",
    "#Hamiltionian path and solution (functions of package TSP)\n",
    "hamilton <- insert_dummy(TSP(M_tau ),label=\"cut\")\n",
    "sol <- solve_TSP(hamilton,method=\"repetitive_nn\")\n",
    "\n",
    "#Reordering\n",
    "TSP_order <- cut_tour(sol,\"cut\")\n",
    "X_dvine_order <- X[,TSP_order]\n"
   ]
  },
  {
   "cell_type": "markdown",
   "id": "af24f1d5",
   "metadata": {},
   "source": [
    "### Parametric dvine knockoff procedure "
   ]
  },
  {
   "cell_type": "code",
   "execution_count": 18,
   "id": "ca4321fa",
   "metadata": {},
   "outputs": [
    {
     "name": "stdout",
     "output_type": "stream",
     "text": [
      "[1] \"dvine fitting time in seconds:\"\n",
      "     user    system   elapsed \n",
      "20947.799     1.019   934.250 \n"
     ]
    }
   ],
   "source": [
    "%%R\n",
    "\n",
    "#Dvine fitting\n",
    "dvine_distributions <- X_Xk_dvine_distributions(X_dvine_order, vinecop_family, n_cores) \n"
   ]
  },
  {
   "cell_type": "code",
   "execution_count": 19,
   "id": "a2d4850c",
   "metadata": {},
   "outputs": [
    {
     "name": "stdout",
     "output_type": "stream",
     "text": [
      "[1] \"Time for running the dvine e-kn procedure:\"\n",
      "    user   system  elapsed \n",
      "8139.466   87.467  572.439 \n",
      "[1] \"Gene selected by the parametric dvine e-knockoff procedure: \"\n",
      " [1] \"128602\" \"1591\"   \"84985\"  \"26154\"  \"91683\"  \"142683\" \"3359\"   \"22977\" \n",
      " [9] \"732\"    \"338707\" \"57016\"  \"84740\"  \"3229\"   \"112937\" \"350\"    \"4588\"  \n",
      "[1] \"The number of selected variables is: 16\"\n"
     ]
    }
   ],
   "source": [
    "%%R\n",
    "\n",
    "#Matrix preparation\n",
    "X_dvine_order_matrix <- as.matrix(X_dvine_order)\n",
    "\n",
    "#Target FDR\n",
    "alpha_dvine <- 0.2\n",
    "\n",
    "#Aplication of the derandomized procedure using e-values\n",
    "time_ekn_dvines <- system.time(\n",
    "res_dvines <- ekn_dvines(X=X_dvine_order_matrix, y=y_matrix, dvine_distributions, M, M_lasso, alpha=alpha_dvine, gamma=alpha_dvine/2, lasso_family, n_cores)\n",
    ")\n",
    "print(\"Time for running the dvine e-kn procedure:\")\n",
    "print(time_ekn_dvines)\n",
    "\n",
    "#Vector of integers that indicates the selected non-nulls position \n",
    "rej_dvines <- sort(res_dvines$rej)\n",
    "\n",
    "#Showing the variables selected (coefficients different to zero)\n",
    "print(\"Gene selected by the parametric dvine e-knockoff procedure: \")\n",
    "print(colnames(X_dvine_order)[rej_dvines])\n",
    "print(paste0(\"The number of selected variables is: \",length(rej_dvines)) )\n"
   ]
  },
  {
   "cell_type": "code",
   "execution_count": 20,
   "id": "5dd14297",
   "metadata": {},
   "outputs": [
    {
     "name": "stdout",
     "output_type": "stream",
     "text": [
      "   dvine_selected\n",
      "1          128602\n",
      "2            1591\n",
      "3           84985\n",
      "4           26154\n",
      "5           91683\n",
      "6          142683\n",
      "7            3359\n",
      "8           22977\n",
      "9             732\n",
      "10         338707\n",
      "11          57016\n",
      "12          84740\n",
      "13           3229\n",
      "14         112937\n",
      "15            350\n",
      "16           4588\n"
     ]
    }
   ],
   "source": [
    "%%R\n",
    "\n",
    "#Print the selected genes in data.frame\n",
    "dvine_selected_vec <- colnames(X_dvine_order)[rej_dvines]\n",
    "dvine_selected <- data.frame(dvine_selected = dvine_selected_vec)\n",
    "print(dvine_selected)"
   ]
  },
  {
   "cell_type": "markdown",
   "id": "f4e653c5",
   "metadata": {},
   "source": [
    "### Non-parametric dvine knockoff procedure "
   ]
  },
  {
   "cell_type": "code",
   "execution_count": 21,
   "id": "3bf5a4ef",
   "metadata": {},
   "outputs": [
    {
     "name": "stdout",
     "output_type": "stream",
     "text": [
      "[1] \"dvine fitting time in seconds:\"\n",
      "     user    system   elapsed \n",
      "10496.072     0.710   479.541 \n"
     ]
    }
   ],
   "source": [
    "%%R\n",
    "\n",
    "#Dvine fitting\n",
    "dvine_nonparametric_distributions <- X_Xk_dvine_distributions(X_dvine_order, nonparametric_family, n_cores) \n"
   ]
  },
  {
   "cell_type": "code",
   "execution_count": 22,
   "id": "57162c26",
   "metadata": {},
   "outputs": [
    {
     "name": "stdout",
     "output_type": "stream",
     "text": [
      "[1] \"Time for running the dvine e-kn procedure:\"\n",
      "    user   system  elapsed \n",
      "3888.818   97.397  386.252 \n",
      "[1] \"Gene selected by nonparametric dvine e-knockoff procedure: \"\n",
      " [1] \"128602\" \"246\"    \"1591\"   \"84985\"  \"26154\"  \"91683\"  \"142683\" \"3359\"  \n",
      " [9] \"22977\"  \"732\"    \"338707\" \"5126\"   \"57016\"  \"84740\"  \"3623\"   \"3229\"  \n",
      "[17] \"4111\"   \"112937\" \"350\"    \"5081\"   \"2944\"   \"84072\"  \"4588\"  \n",
      "[1] \"The number of selected variables is: 23\"\n"
     ]
    }
   ],
   "source": [
    "%%R\n",
    "\n",
    "#Target FDR\n",
    "alpha_nonpar_dvine <- 0.2\n",
    "\n",
    "#Aplication of the derandomized procedure using e-values\n",
    "time_ekn_nonpar_dvines <- system.time(\n",
    "res_nonpar_dvines <- ekn_dvines(X=X_dvine_order_matrix, y=y_matrix, dvine_nonparametric_distributions, M, M_lasso, alpha=alpha_nonpar_dvine, gamma=alpha_nonpar_dvine/2, lasso_family, n_cores)\n",
    ")\n",
    "print(\"Time for running the dvine e-kn procedure:\")\n",
    "print(time_ekn_nonpar_dvines)\n",
    "\n",
    "#Vector of integers that indicates the selected non-nulls position \n",
    "rej_nonpar_dvines <- sort(res_nonpar_dvines$rej)\n",
    "\n",
    "#Showing the variables selected (coefficients different to zero)\n",
    "print(\"Gene selected by nonparametric dvine e-knockoff procedure: \")\n",
    "print(colnames(X_dvine_order)[rej_nonpar_dvines])\n",
    "print(paste0(\"The number of selected variables is: \",length(rej_nonpar_dvines)) )"
   ]
  },
  {
   "cell_type": "code",
   "execution_count": 23,
   "id": "3e1dbfc8",
   "metadata": {},
   "outputs": [
    {
     "name": "stdout",
     "output_type": "stream",
     "text": [
      "   nonpar_dvine_selected\n",
      "1                 128602\n",
      "2                    246\n",
      "3                   1591\n",
      "4                  84985\n",
      "5                  26154\n",
      "6                  91683\n",
      "7                 142683\n",
      "8                   3359\n",
      "9                  22977\n",
      "10                   732\n",
      "11                338707\n",
      "12                  5126\n",
      "13                 57016\n",
      "14                 84740\n",
      "15                  3623\n",
      "16                  3229\n",
      "17                  4111\n",
      "18                112937\n",
      "19                   350\n",
      "20                  5081\n",
      "21                  2944\n",
      "22                 84072\n",
      "23                  4588\n"
     ]
    }
   ],
   "source": [
    "%%R\n",
    "#Print the selected genes in data.frame\n",
    "nonpar_dvine_selected_vec <- colnames(X_dvine_order)[rej_nonpar_dvines]\n",
    "nonpar_dvine_selected <- data.frame(nonpar_dvine_selected = nonpar_dvine_selected_vec)\n",
    "print(nonpar_dvine_selected)"
   ]
  },
  {
   "cell_type": "markdown",
   "id": "21a7288d",
   "metadata": {},
   "source": [
    "# Applying the second order Knockoff methodology with derandomized knockoffs using e-values for FDR control"
   ]
  },
  {
   "cell_type": "code",
   "execution_count": 24,
   "id": "c5625f04",
   "metadata": {},
   "outputs": [
    {
     "name": "stdout",
     "output_type": "stream",
     "text": [
      "[1] \"Time for running the e-knockoff procedure:\"\n",
      "   user  system elapsed \n",
      "534.420  16.418 129.687 \n",
      "[1]  49  76 106 164 197 228 232\n",
      "[1] \"Gene selected by the second order knockoffs procedure: \"\n",
      "[1] \"112937\" \"84740\"  \"4588\"   \"142683\" \"91683\"  \"732\"    \"350\"   \n",
      "[1] \"The number of selected variables is: 7\"\n"
     ]
    }
   ],
   "source": [
    "%%R\n",
    "\n",
    "#Target FDR\n",
    "alpha_second_order <- 0.57\n",
    "\n",
    "#Aplication of the derandomized procedure using e-values\n",
    "time_ekn_second_order <- system.time(\n",
    "res_second_order <- ekn_second_order(X=X_matrix, y=y_matrix, M=25, M_lasso, alpha=alpha_second_order, gamma=alpha_second_order/2, lasso_family, n_cores)\n",
    ")\n",
    "print(\"Time for running the e-knockoff procedure:\")\n",
    "print(time_ekn_second_order)\n",
    "\n",
    "#Vector of integers that indicates the selected non-nulls position \n",
    "rej_second_order <- sort(res_second_order$rej)\n",
    "print(rej_second_order)\n",
    "\n",
    "\n",
    "#Showing the variables selected (coefficients different to zero)\n",
    "print(\"Gene selected by the second order knockoffs procedure: \")\n",
    "print(colnames(X)[rej_second_order])\n",
    "print(paste0(\"The number of selected variables is: \",length(rej_second_order)) )\n"
   ]
  },
  {
   "cell_type": "code",
   "execution_count": 25,
   "id": "fcd15162",
   "metadata": {},
   "outputs": [
    {
     "name": "stdout",
     "output_type": "stream",
     "text": [
      "  second_order_selected\n",
      "1                112937\n",
      "2                 84740\n",
      "3                  4588\n",
      "4                142683\n",
      "5                 91683\n",
      "6                   732\n",
      "7                   350\n"
     ]
    }
   ],
   "source": [
    "%%R\n",
    "\n",
    "#Print the selected genes in data.frame\n",
    "second_order_selected_vec <- colnames(X_matrix)[rej_second_order]\n",
    "second_order_selected <- data.frame(second_order_selected = second_order_selected_vec)\n",
    "print(second_order_selected)"
   ]
  },
  {
   "cell_type": "markdown",
   "id": "35976db2",
   "metadata": {},
   "source": [
    "# Applying the Gaussian Knockoff methodology with derandomized knockoffs using e-values for FDR control"
   ]
  },
  {
   "cell_type": "code",
   "execution_count": 26,
   "id": "76b45a12",
   "metadata": {},
   "outputs": [],
   "source": [
    "%%R\n",
    "# A list needed for the Gaussian Knockoff sampling procedure\n",
    "ls_Xk_norm <- list()"
   ]
  },
  {
   "cell_type": "code",
   "execution_count": 27,
   "id": "43f3e35d",
   "metadata": {},
   "outputs": [],
   "source": [
    "#From R to pyhton\n",
    "%R -o X\n",
    "\n",
    "Gaussian_sampler_hat = knockpy.knockoffs.GaussianSampler(X.to_numpy(), mu=None,\n",
    "                                                           Sigma=None,\n",
    "                                                           method='mvr', verbose=False)\n",
    "\n",
    "#Sampling the Gaussian Knockoffs\n",
    "for m in range(M):\n",
    "  np.random.seed(m) #For reproducibility proposes\n",
    "  Xk_norm = Gaussian_sampler_hat.sample_knockoffs()\n",
    "  %R -i Xk_norm\n",
    "  %R -i m\n",
    "  %R ls_Xk_norm[[m+1]] <- Xk_norm\n",
    "  %R rm(Xk_norm)  "
   ]
  },
  {
   "cell_type": "code",
   "execution_count": 28,
   "id": "5f1911a5",
   "metadata": {
    "scrolled": true
   },
   "outputs": [
    {
     "name": "stdout",
     "output_type": "stream",
     "text": [
      "[1] \"Time for running the e-knockoff procedure:\"\n",
      "   user  system elapsed \n",
      " 71.193   3.593 200.151 \n",
      "[1]  49  76 106 164 228 232\n",
      "[1] \"Gene selected by the Gaussian knockoffs procedure: \"\n",
      "[1] \"112937\" \"84740\"  \"4588\"   \"142683\" \"732\"    \"350\"   \n",
      "[1] \"The number of selected variables is: 6\"\n"
     ]
    }
   ],
   "source": [
    "%%R\n",
    "\n",
    "#Target FDR\n",
    "alpha_gaussian <- 0.56\n",
    "\n",
    "#Aplication of the derandomized procedure using e-values\n",
    "time_ekn_gaussian <- system.time(\n",
    "res_gaussian <- ekn_gaussian(X=X_matrix, y=y_matrix, ls_Xk_norm, M, M_lasso, alpha=alpha_gaussian, gamma=alpha_gaussian/2, lasso_family, n_cores)\n",
    ")\n",
    "print(\"Time for running the e-knockoff procedure:\")\n",
    "print(time_ekn_gaussian)\n",
    "\n",
    "#Vector of integers that indicates the selected non-nulls position \n",
    "rej_gaussian <- sort(res_gaussian$rej)\n",
    "print(rej_gaussian)\n",
    "\n",
    "#Showing the variables selected (coefficients different to zero)\n",
    "print(\"Gene selected by the Gaussian knockoffs procedure: \")\n",
    "print(colnames(X)[rej_gaussian])\n",
    "print(paste0(\"The number of selected variables is: \",length(rej_gaussian)) )\n",
    "\n"
   ]
  },
  {
   "cell_type": "code",
   "execution_count": 29,
   "id": "e0b65aa0",
   "metadata": {},
   "outputs": [
    {
     "name": "stdout",
     "output_type": "stream",
     "text": [
      "  gaussian_selected\n",
      "1            112937\n",
      "2             84740\n",
      "3              4588\n",
      "4            142683\n",
      "5               732\n",
      "6               350\n"
     ]
    }
   ],
   "source": [
    "%%R\n",
    "\n",
    "#Print the selected genes in data.frame\n",
    "gaussian_selected_vec <- colnames(X_matrix)[rej_gaussian]\n",
    "gaussian_selected <- data.frame(gaussian_selected = gaussian_selected_vec)\n",
    "print(gaussian_selected)"
   ]
  },
  {
   "cell_type": "markdown",
   "id": "ae366645",
   "metadata": {},
   "source": [
    "# Results of selected features"
   ]
  },
  {
   "cell_type": "markdown",
   "id": "c50a8ded",
   "metadata": {},
   "source": [
    "### Selected variables by parametric dvine e-knockoff procedure --> Target FDR=0.2"
   ]
  },
  {
   "cell_type": "code",
   "execution_count": 31,
   "id": "9224d2c8",
   "metadata": {},
   "outputs": [
    {
     "name": "stdout",
     "output_type": "stream",
     "text": [
      "[1] \"Gene selected by the parametric dvine e-knockoff procedure: \"\n",
      " [1] \"128602\" \"1591\"   \"84985\"  \"26154\"  \"91683\"  \"142683\" \"3359\"   \"22977\" \n",
      " [9] \"732\"    \"338707\" \"57016\"  \"84740\"  \"3229\"   \"112937\" \"350\"    \"4588\"  \n",
      "[1] \"The number of selected variables is: 16\"\n"
     ]
    }
   ],
   "source": [
    "%%R\n",
    "print(\"Gene selected by the parametric dvine e-knockoff procedure: \")\n",
    "print(colnames(X_dvine_order)[rej_dvines])\n",
    "print(paste0(\"The number of selected variables is: \",length(rej_dvines)) )"
   ]
  },
  {
   "cell_type": "markdown",
   "id": "26ce477e",
   "metadata": {},
   "source": [
    "### Selected variables by non-parametric dvine e-knockoff procedure --> Target FDR=0.2"
   ]
  },
  {
   "cell_type": "code",
   "execution_count": 32,
   "id": "be8a868e",
   "metadata": {},
   "outputs": [
    {
     "name": "stdout",
     "output_type": "stream",
     "text": [
      "[1] \"Gene selected by nonparametric dvine e-knockoff procedure: \"\n",
      " [1] \"128602\" \"246\"    \"1591\"   \"84985\"  \"26154\"  \"91683\"  \"142683\" \"3359\"  \n",
      " [9] \"22977\"  \"732\"    \"338707\" \"5126\"   \"57016\"  \"84740\"  \"3623\"   \"3229\"  \n",
      "[17] \"4111\"   \"112937\" \"350\"    \"5081\"   \"2944\"   \"84072\"  \"4588\"  \n",
      "[1] \"The number of selected variables is: 23\"\n"
     ]
    }
   ],
   "source": [
    "%%R\n",
    "#Showing the variables selected (coefficients different to zero)\n",
    "print(\"Gene selected by nonparametric dvine e-knockoff procedure: \")\n",
    "print(colnames(X_dvine_order)[rej_nonpar_dvines])\n",
    "print(paste0(\"The number of selected variables is: \",length(rej_nonpar_dvines)) )"
   ]
  },
  {
   "cell_type": "markdown",
   "id": "a8655431",
   "metadata": {},
   "source": [
    "###  Selected variables by the second order knockoff procedure -->FDR=0.57"
   ]
  },
  {
   "cell_type": "code",
   "execution_count": 33,
   "id": "afca0563",
   "metadata": {},
   "outputs": [
    {
     "name": "stdout",
     "output_type": "stream",
     "text": [
      "[1] \"Gene selected by the second order knockoffs procedure: \"\n",
      "[1] \"112937\" \"84740\"  \"4588\"   \"142683\" \"91683\"  \"732\"    \"350\"   \n",
      "[1] \"The number of selected variables is: 7\"\n"
     ]
    }
   ],
   "source": [
    "%%R\n",
    "#Showing the variables selected (coefficients different to zero)\n",
    "print(\"Gene selected by the second order knockoffs procedure: \")\n",
    "print(colnames(X)[rej_second_order])\n",
    "print(paste0(\"The number of selected variables is: \",length(rej_second_order)) )"
   ]
  },
  {
   "cell_type": "markdown",
   "id": "ec956c59",
   "metadata": {},
   "source": [
    "###  Selected variables by the Gaussian knockoff procedure --> FDR = 0.56"
   ]
  },
  {
   "cell_type": "code",
   "execution_count": 34,
   "id": "76a235b9",
   "metadata": {},
   "outputs": [
    {
     "name": "stdout",
     "output_type": "stream",
     "text": [
      "[1] \"Gene selected by the Gaussian knockoffs procedure: \"\n",
      "[1] \"112937\" \"84740\"  \"4588\"   \"142683\" \"732\"    \"350\"   \n",
      "[1] \"The number of selected variables is: 6\"\n"
     ]
    }
   ],
   "source": [
    "%%R\n",
    "#Showing the variables selected (coefficients different to zero)\n",
    "print(\"Gene selected by the Gaussian knockoffs procedure: \")\n",
    "print(colnames(X)[rej_gaussian])\n",
    "print(paste0(\"The number of selected variables is: \",length(rej_gaussian)) )"
   ]
  },
  {
   "cell_type": "code",
   "execution_count": 35,
   "id": "a4d26396",
   "metadata": {},
   "outputs": [
    {
     "name": "stdout",
     "output_type": "stream",
     "text": [
      "Time (min) taken to run all is: 593.6055\n"
     ]
    }
   ],
   "source": [
    "tf = timer()\n",
    "print('Time (min) taken to run all is:',round((tf-ti)/60,4))"
   ]
  }
 ],
 "metadata": {
  "kernelspec": {
   "display_name": "Python 3 (ipykernel)",
   "language": "python",
   "name": "python3"
  },
  "language_info": {
   "codemirror_mode": {
    "name": "ipython",
    "version": 3
   },
   "file_extension": ".py",
   "mimetype": "text/x-python",
   "name": "python",
   "nbconvert_exporter": "python",
   "pygments_lexer": "ipython3",
   "version": "3.9.7"
  }
 },
 "nbformat": 4,
 "nbformat_minor": 5
}
