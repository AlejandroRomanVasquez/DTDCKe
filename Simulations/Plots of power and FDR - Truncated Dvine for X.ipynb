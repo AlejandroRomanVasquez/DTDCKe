{
 "cells": [
  {
   "cell_type": "markdown",
   "id": "5de519c4",
   "metadata": {},
   "source": [
    "### Importing Python libraries"
   ]
  },
  {
   "cell_type": "code",
   "execution_count": null,
   "id": "a9258293",
   "metadata": {},
   "outputs": [],
   "source": [
    "import pandas as pd\n",
    "import numpy as np\n",
    "import math\n",
    "import matplotlib.pyplot as plt\n",
    "%matplotlib inline"
   ]
  },
  {
   "cell_type": "markdown",
   "id": "0c551ef1",
   "metadata": {},
   "source": [
    "### Dvine family linear regression "
   ]
  },
  {
   "cell_type": "code",
   "execution_count": null,
   "id": "5c712ffa",
   "metadata": {},
   "outputs": [],
   "source": [
    "df_simulations_results_1 = pd.read_csv(\"dvine_family_results_1.csv\")\n",
    "df_simulations_results_2 = pd.read_csv(\"dvine_family_results_2.csv\")\n",
    "df_simulations_results_3 = pd.read_csv(\"dvine_family_results_3.csv\")\n",
    "df_simulations_results_4 = pd.read_csv(\"dvine_family_results_4.csv\")\n",
    "df_simulations_results_5 = pd.read_csv(\"dvine_family_results_5.csv\")\n",
    "df_simulations_results_6 = pd.read_csv(\"dvine_family_results_6.csv\")\n",
    "df_simulations_results_7 = pd.read_csv(\"dvine_family_results_7.csv\")"
   ]
  },
  {
   "cell_type": "code",
   "execution_count": null,
   "id": "583f45cf",
   "metadata": {},
   "outputs": [],
   "source": [
    "#Data frame with all the scenarios\n",
    "df_simulations_results = pd.concat([df_simulations_results_1,df_simulations_results_2,df_simulations_results_3,df_simulations_results_4,df_simulations_results_5, df_simulations_results_6, df_simulations_results_7 ], axis=0)\n",
    "df_simulations_results.reset_index(drop=True, inplace=True)\n",
    "df_simulations_results"
   ]
  },
  {
   "cell_type": "markdown",
   "id": "fa904c07",
   "metadata": {},
   "source": [
    "### Dataframe with the mean results "
   ]
  },
  {
   "cell_type": "code",
   "execution_count": null,
   "id": "dd68fd5b",
   "metadata": {
    "scrolled": false
   },
   "outputs": [],
   "source": [
    "results = df_simulations_results[[\"Varying feature\",\"Gaussian Power(%)\",\"2do Order Power(%)\", \"Dvine Power(%)\", \"Nonpar DvinePower(%)\", \"Gaussian FDP(%)\", \"2do Order FDP(%)\",\"Dvine FDP(%)\",\"Nonpar Dvine FDP(%)\"]].groupby(\"Varying feature\").mean()\n",
    "results\n"
   ]
  },
  {
   "cell_type": "code",
   "execution_count": null,
   "id": "52a4c771",
   "metadata": {},
   "outputs": [],
   "source": [
    "#Average power and FDR plots side-by-side\n",
    "\n",
    "x_points = np.array(results.index)\n",
    "x_points[0]=\"BB1\"\n",
    "x_points[1]=\"BB7\"\n",
    "x_points[2]=\"Clayton\"\n",
    "x_points[3]=\"Frank\"\n",
    "x_points[4]=\"Gumbel\"\n",
    "x_points[5]=\"Joe\"\n",
    "\n",
    "fig, (ax1, ax2) = plt.subplots(1, 2)\n",
    "#fig.suptitle('Different pair copula families',fontsize=18)\n",
    "fig.set_figwidth(10)\n",
    "fig.set_figheight(4)\n",
    "\n",
    "y1_points = np.array(results[\"Gaussian Power(%)\"])\n",
    "y2_points = np.array(results[\"2do Order Power(%)\"])\n",
    "y3_points = np.array(results[\"Dvine Power(%)\"])\n",
    "y4_points = np.array(results[\"Nonpar DvinePower(%)\"])\n",
    "\n",
    "ax1.plot(x_points, y1_points, marker = 'o',color='tab:green',label=\"MVR Gaussian\", linestyle = 'None')\n",
    "ax1.plot(x_points, y2_points, marker = 'x', color='tab:orange', label=\"2nd order\", linestyle = 'None')\n",
    "ax1.plot(x_points, y3_points, marker = 's', color='tab:blue', label=\"DTDCKe\", linestyle = 'None')\n",
    "ax1.plot(x_points, y4_points, marker = '.', color='tab:purple',label=\"Nonpar DTDCKe\", linestyle = 'None')\n",
    "\n",
    "ax1.set_ylim(0, 125)\n",
    "ax1.set_xticks(x_points)\n",
    "ax1.legend(loc=\"upper right\")\n",
    "ax1.set_xlabel(\"Pair-copula families\")\n",
    "ax1.set_ylabel(\"Average power (%)\")\n",
    "\n",
    "\n",
    "y1_points = np.array(results[\"Gaussian FDP(%)\"])\n",
    "y2_points = np.array(results[\"2do Order FDP(%)\"])\n",
    "y3_points = np.array(results[\"Dvine FDP(%)\"])\n",
    "y4_points = np.array(results[\"Nonpar Dvine FDP(%)\"])\n",
    "\n",
    "ax2.plot(x_points, y1_points, marker = 'o',color='tab:green',label=\"MVR Gaussian\", linestyle = 'None')\n",
    "ax2.plot(x_points, y2_points, marker = 'x', color='tab:orange', label=\"2nd order\", linestyle = 'None')\n",
    "ax2.plot(x_points, y3_points, marker = 's', color='tab:blue', label=\"DTDCKe\", linestyle = 'None')\n",
    "ax2.plot(x_points, y4_points, marker = '.', color='tab:purple',label=\"Nonpar DTDCKe\", linestyle = 'None')\n",
    "\n",
    "ax2.axhline(y=20, color='tab:gray', linestyle='dashed')\n",
    "ax2.set_ylim(0, 125)\n",
    "ax2.set_xticks(x_points)\n",
    "ax2.legend(loc=\"upper left\")\n",
    "ax2.set_xlabel(\"Pair-copula families\")\n",
    "ax2.set_ylabel(\"FDR (%)\")\n",
    "\n",
    "fig.tight_layout()\n",
    "\n",
    "fig.savefig(\"dvine_family_linear_regression_17sep23.eps\", format=\"eps\", dpi=1200)\n",
    "fig.savefig(\"dvine_family_linear_regression_17sep23.jpg\", format=\"jpg\", dpi=300)\n",
    "\n",
    "fig.show()"
   ]
  },
  {
   "cell_type": "markdown",
   "id": "349c6320",
   "metadata": {},
   "source": [
    "### Dvine family logistic regression "
   ]
  },
  {
   "cell_type": "code",
   "execution_count": null,
   "id": "8d854464",
   "metadata": {},
   "outputs": [],
   "source": [
    "df_simulations_classification_results_1 = pd.read_csv(\"dvine_classification_family_results_1.csv\")\n",
    "df_simulations_classification_results_2 = pd.read_csv(\"dvine_classification_family_results_2.csv\")\n",
    "df_simulations_classification_results_3 = pd.read_csv(\"dvine_classification_family_results_3.csv\")\n",
    "df_simulations_classification_results_4 = pd.read_csv(\"dvine_classification_family_results_4.csv\")\n",
    "df_simulations_classification_results_5 = pd.read_csv(\"dvine_classification_family_results_5.csv\")\n",
    "df_simulations_classification_results_6 = pd.read_csv(\"dvine_classification_family_results_6.csv\")\n",
    "df_simulations_classification_results_7 = pd.read_csv(\"dvine_classification_family_results_7.csv\")"
   ]
  },
  {
   "cell_type": "code",
   "execution_count": null,
   "id": "e6bfa913",
   "metadata": {},
   "outputs": [],
   "source": [
    "#Data frame with all the scenarios\n",
    "df_simulations_classification_results = pd.concat([df_simulations_classification_results_1, df_simulations_classification_results_2, df_simulations_classification_results_3, df_simulations_classification_results_4, df_simulations_classification_results_5, df_simulations_classification_results_6, df_simulations_classification_results_7], axis=0)\n",
    "df_simulations_classification_results.reset_index(drop=True, inplace=True)\n",
    "df_simulations_classification_results"
   ]
  },
  {
   "cell_type": "markdown",
   "id": "87067b88",
   "metadata": {},
   "source": [
    "### Dataframe with the mean results "
   ]
  },
  {
   "cell_type": "code",
   "execution_count": null,
   "id": "9195484c",
   "metadata": {
    "scrolled": false
   },
   "outputs": [],
   "source": [
    "classification_results = df_simulations_classification_results[[\"Varying feature\",\"Gaussian Power(%)\",\"2do Order Power(%)\", \"Dvine Power(%)\", \"Nonpar DvinePower(%)\", \"Gaussian FDP(%)\", \"2do Order FDP(%)\",\"Dvine FDP(%)\",\"Nonpar Dvine FDP(%)\"]].groupby(\"Varying feature\").mean()\n",
    "classification_results"
   ]
  },
  {
   "cell_type": "code",
   "execution_count": null,
   "id": "ec110f4f",
   "metadata": {
    "scrolled": true
   },
   "outputs": [],
   "source": [
    "#Average power and FDR plots side-by-side\n",
    "\n",
    "x_points = np.array(classification_results.index)\n",
    "x_points[0]=\"BB1\"\n",
    "x_points[1]=\"BB7\"\n",
    "x_points[2]=\"Clayton\"\n",
    "x_points[3]=\"Frank\"\n",
    "x_points[4]=\"Gumbel\"\n",
    "x_points[5]=\"Joe\"\n",
    "\n",
    "fig, (ax1, ax2) = plt.subplots(1, 2)\n",
    "#fig.suptitle('Different pair copula families',fontsize=18)\n",
    "fig.set_figwidth(10)\n",
    "fig.set_figheight(4)\n",
    "\n",
    "y1_points = np.array(classification_results[\"Gaussian Power(%)\"])\n",
    "y2_points = np.array(classification_results[\"2do Order Power(%)\"])\n",
    "y3_points = np.array(classification_results[\"Dvine Power(%)\"])\n",
    "y4_points = np.array(classification_results[\"Nonpar DvinePower(%)\"])\n",
    "\n",
    "ax1.plot(x_points, y1_points, marker = 'o',color='tab:green',label=\"MVR Gaussian\", linestyle = 'None')\n",
    "ax1.plot(x_points, y2_points, marker = 'x', color='tab:orange', label=\"2nd order\", linestyle = 'None')\n",
    "ax1.plot(x_points, y3_points, marker = 's', color='tab:blue', label=\"DTDCKe\", linestyle = 'None')\n",
    "ax1.plot(x_points, y4_points, marker = '.', color='tab:purple',label=\"Nonpar DTDCKe\", linestyle = 'None')\n",
    "\n",
    "#X_axis = np.arange(len(x_points))\n",
    "\n",
    "#ax1.bar(X_axis - 0.6, y1_points, width=0.4, color='tab:green',label=\"Gaussian\")\n",
    "#ax1.bar(X_axis - 0.2, y2_points, width=0.4, color='tab:orange', label=\"2nd order\")\n",
    "#ax1.bar(X_axis + 0.2, y3_points, width=0.4, color='tab:blue', label=\"D-vine\")\n",
    "#ax1.bar(X_axis + 0.6, y4_points, width=0.4, color='tab:purple',label=\"Nonpar D-vine\")\n",
    "\n",
    "\n",
    "ax1.set_ylim(0, 125)\n",
    "ax1.set_xticks(x_points)\n",
    "ax1.legend(loc=\"upper right\")\n",
    "ax1.set_xlabel(\"Pair-copula families\")\n",
    "ax1.set_ylabel(\"Average power (%)\")\n",
    "\n",
    "\n",
    "y1_points = np.array(classification_results[\"Gaussian FDP(%)\"])\n",
    "y2_points = np.array(classification_results[\"2do Order FDP(%)\"])\n",
    "y3_points = np.array(classification_results[\"Dvine FDP(%)\"])\n",
    "y4_points = np.array(classification_results[\"Nonpar Dvine FDP(%)\"])\n",
    "\n",
    "ax2.plot(x_points, y1_points, marker = 'o',color='tab:green',label=\"MVR Gaussian\", linestyle = 'None')\n",
    "ax2.plot(x_points, y2_points, marker = 'x', color='tab:orange', label=\"2nd order\", linestyle = 'None')\n",
    "ax2.plot(x_points, y3_points, marker = 's', color='tab:blue', label=\"DTDCKe\", linestyle = 'None')\n",
    "ax2.plot(x_points, y4_points, marker = '.', color='tab:purple',label=\"Nonpar DTDCKe\", linestyle = 'None')\n",
    "\n",
    "ax2.axhline(y=20, color='tab:gray', linestyle='dashed')\n",
    "ax2.set_ylim(0, 125)\n",
    "ax2.set_xticks(x_points)\n",
    "ax2.legend(loc=\"upper left\")\n",
    "ax2.set_xlabel(\"Pair-copula families\")\n",
    "ax2.set_ylabel(\"FDR (%)\")\n",
    "\n",
    "fig.tight_layout()\n",
    "\n",
    "fig.savefig(\"dvine_family_logistic_regression_17sep23.eps\", format=\"eps\", dpi=1200)\n",
    "fig.savefig(\"dvine_family_logistic_regression_17sep23.jpg\", format=\"jpg\", dpi=300)\n",
    "\n",
    "fig.show()"
   ]
  }
 ],
 "metadata": {
  "kernelspec": {
   "display_name": "Python 3 (ipykernel)",
   "language": "python",
   "name": "python3"
  },
  "language_info": {
   "codemirror_mode": {
    "name": "ipython",
    "version": 3
   },
   "file_extension": ".py",
   "mimetype": "text/x-python",
   "name": "python",
   "nbconvert_exporter": "python",
   "pygments_lexer": "ipython3",
   "version": "3.9.7"
  }
 },
 "nbformat": 4,
 "nbformat_minor": 5
}
